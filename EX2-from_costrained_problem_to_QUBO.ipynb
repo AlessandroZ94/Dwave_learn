{
 "cells": [
  {
   "cell_type": "markdown",
   "id": "a2cae4c3",
   "metadata": {},
   "source": [
    "# Building the QUBO is actually the most complicated part!"
   ]
  },
  {
   "cell_type": "markdown",
   "id": "364fa5f4",
   "metadata": {},
   "source": [
    "# Example: Graph Partitioning"
   ]
  },
  {
   "cell_type": "markdown",
   "id": "0efd6fb2",
   "metadata": {},
   "source": [
    "In this demo, we explore the graph partitioning problem. \n",
    "\n",
    "**Example of application** suppose that we have a group of people that we need to split into two **equal-sized** teams. Between some pairs of people there is a friendly relationship. We want to have as few friends on opposite teams as possible. \n",
    "\n",
    "We represent our group of people as a graph (a node/vertex for each person), and draw an edge between people that are friends, we have a model of our network. If we look for a **minimum cut in our graph, then we are looking for a way to split the nodes into two groups so that there are as few edges as possible between the groups**. In our group of people, this means that we have two teams with as few friends as possible on different teams.\n",
    "\n",
    "We will run the demo to find the best way of splitting a 40-node graph (an Erdos-Renyi random graph that probabilistically creates an edge between 20% of its node pairs) into two subsets to minimize the number of cut edges."
   ]
  },
  {
   "cell_type": "markdown",
   "id": "27baed5d",
   "metadata": {},
   "source": [
    "# Code overview"
   ]
  },
  {
   "cell_type": "markdown",
   "id": "6cc31c9c",
   "metadata": {},
   "source": [
    "The code implements a QUBO formulation of this problem.\n",
    "\n",
    "The answer that we are looking for is a partition of the nodes in the graph, so we will assign a binary variable for each node, i.e. variable $x_i$ denotes whether node $i$ is in one subset (call it Subset $0$) or the other (Subset $1$).\n",
    "\n",
    "**The objective function that we want should minimize the number of cut edges.** \n",
    "\n",
    "The table below shows how we count the cut edges for a given graph partition (assignment of values to our binary variables). Columns $x_i$ and $x_j$ are two nodes; column edge $(i, j)$ represents an edge between these two nodes. We only want to count an edge if the endpoints are in different subsets, and so we assign a $1$ for the edge column in this case and a $0$ otherwise.\n",
    "\n",
    "<img src=\"files/tabella.png\" alt=\"\" style=\"width: 200px;\"/>\n",
    "\n",
    "From this table, we see that we can use the expression x_i+x_j-2x_ix_j to calculate the edge column in our table. Now for our entire graph, our objective function can be written as shown below, where the sum is over all edges in the graph, denoted by E.\n",
    "\n",
    "\n",
    "\n",
    "**So far it's easy! It is the same as the Max Cut problem, right?**"
   ]
  },
  {
   "cell_type": "markdown",
   "id": "42848c09",
   "metadata": {},
   "source": [
    "## Let's consider the constaints!\n",
    "\n",
    "**SIZE**:Subset $0$ and Subset $1$ must have the same sizes. \n",
    "\n",
    "To ensure the two subsets have the same size, we enforce a constraint that Subset $1$ has size equal to half of all nodes in the graph.  $V$ represents the set of all nodes in the graph.\n",
    "\n",
    "<img src=\"files/1.png\" alt=\"\" style=\"width: 150px;\"/>\n",
    "\n",
    "Now, try to apply the penalty method!\n",
    "\n",
    "\n",
    "\n"
   ]
  },
  {
   "cell_type": "code",
   "execution_count": null,
   "id": "1a8c14b9",
   "metadata": {},
   "outputs": [],
   "source": [
    "# ------ Import necessary packages ----\n",
    "import networkx as nx\n",
    "from collections import defaultdict\n",
    "from itertools import combinations\n",
    "from dwave.system.samplers import DWaveSampler\n",
    "from dwave.system.composites import EmbeddingComposite\n",
    "import math\n",
    "\n"
   ]
  },
  {
   "cell_type": "code",
   "execution_count": null,
   "id": "d576be00",
   "metadata": {},
   "outputs": [],
   "source": [
    "# ------- Set up our graph -------\n",
    "G = nx.gnp_random_graph(40, 0.2)\n",
    "\n",
    "print(\"Graph on {} nodes created with {} out of {} possible edges.\".format(len(G.nodes), len(G.edges), len(G.nodes) * (len(G.nodes)-1) / 2))\n"
   ]
  },
  {
   "cell_type": "markdown",
   "id": "1c15f989",
   "metadata": {},
   "source": [
    "There are three parameters to be set by the user in this code: **chain strength, number of reads, and gamma**. \n",
    "\n",
    "Since this is a relatively large problem, we set a large **number of reads (num_reads = 1000)**. \n",
    "\n",
    "For **chain strength**, we examine the entries in our Q matrix and choose a relatively large number to enforce chains in our embedding. For this problem, our largest matrix entries are the linear coefficients (approximately size gamma*(1-1*len(G.nodes))) and so a value of gamma*len(G.nodes) is chosen for chain_strength.\n",
    "\n",
    "For **gamma**, our Lagrange parameter, a good number to start with is an estimate for your optimal objective function value. \n",
    "\n",
    "NB. **gamma** is not easy to set... \n",
    "\n",
    "Hint: Since we are utilizing Erdos-Renyi random graphs, we assume that our graph will have about 20% of the number of cut edges that a complete graph would have (since our edge probability in G is also 20%). Since a complete graph on 40 nodes has (n(n-1)):2=780 edges, and any partition into equal subsets results in a cut of size 400 (20 nodes in each subset with all 20x20 edges between subsets cut), we can estimate our objective function value. We are examining an Erdos-Renyi random graph with an edge probability of 20%, we can estimate a cut of size approximately 20% of 400, or 80 edges. This leads us to try a Lagrange parameter of 80, which is implemented in our program with gamma=80\n",
    "\n"
   ]
  },
  {
   "cell_type": "code",
   "execution_count": null,
   "id": "fdd0b214",
   "metadata": {},
   "outputs": [],
   "source": [
    "# ------- Set tunable parameters -------\n",
    "# \n",
    "num_reads = #replaceme\n",
    "gamma = #replaceme\n",
    "\n",
    "# Set chain strength\n",
    "chain_strength = #replaceme"
   ]
  },
  {
   "cell_type": "code",
   "execution_count": null,
   "id": "8273d88a",
   "metadata": {},
   "outputs": [],
   "source": [
    "# ------- Set up our QUBO dictionary -------\n",
    "#replaceme"
   ]
  },
  {
   "cell_type": "code",
   "execution_count": null,
   "id": "cfd62070",
   "metadata": {},
   "outputs": [],
   "source": [
    "# ------- Run our QUBO on the QPU -------\n",
    "\n",
    "# Run the QUBO on the solver from your config file\n",
    "sampler = EmbeddingComposite(DWaveSampler())\n",
    "response = sampler.sample_qubo(Q,\n",
    "                               chain_strength=chain_strength,\n",
    "                               num_reads=num_reads,\n",
    "                               label='Example - Graph Partitioning')\n",
    "\n",
    "# See if the best solution found is feasible, and if so print the number of cut edges.\n",
    "sample = response.record.sample[0]\n",
    "\n",
    "# In the case when n is odd, the set may have one more or one fewer nodes\n",
    "if sum(sample) in [math.floor(len(G.nodes)/2), math.ceil(len(G.nodes)/2)]:\n",
    "    num_cut_edges = 0\n",
    "    for u, v in G.edges:\n",
    "        num_cut_edges += sample[u] + sample[v] - 2*sample[u]*sample[v]\n",
    "    print(\"Valid partition found with\", num_cut_edges, \"cut edges.\")\n",
    "else:\n",
    "    print(\"Invalid partition.\")"
   ]
  },
  {
   "cell_type": "markdown",
   "id": "9550671f",
   "metadata": {},
   "source": [
    "References https://www.frontiersin.org/articles/10.3389/fphy.2014.00005/full\n",
    "\n",
    "https://cloud.dwavesys.com/leap/example-details/222052595"
   ]
  },
  {
   "cell_type": "code",
   "execution_count": null,
   "id": "abc9a4bf",
   "metadata": {},
   "outputs": [],
   "source": []
  }
 ],
 "metadata": {
  "kernelspec": {
   "display_name": "Python 3.11.6 (ipykernel)",
   "language": "python",
   "name": "python3"
  },
  "language_info": {
   "codemirror_mode": {
    "name": "ipython",
    "version": 3
   },
   "file_extension": ".py",
   "mimetype": "text/x-python",
   "name": "python",
   "nbconvert_exporter": "python",
   "pygments_lexer": "ipython3",
   "version": "3.11.6"
  }
 },
 "nbformat": 4,
 "nbformat_minor": 5
}
