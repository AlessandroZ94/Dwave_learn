{
 "cells": [
  {
   "cell_type": "markdown",
   "id": "f2e03a1a",
   "metadata": {},
   "source": [
    "# Maximum Cut: a QUBO formulation\n",
    "\n",
    "\n",
    "**Real-world applications:**\n",
    "\n",
    "suppose that we have a set of different computers, each with different types of connections. Some computers have bluetooth, some have USB ports, HDMI ports, etc. We want to split our set of computers into two groups for two different projects, but it's very important that the two groups can connect to each other. The problem is sometimes the wires and connections don't work! How can we be sure that we have the best chance at remaining connected?\n",
    "\n",
    "One way to solve this problem is with the maximum cut problem. If we think of our set of computers as a graph (a node/vertex for each computer), and draw an edge between computers that can connect to each other, we have a model of our network. If we look for a maximum cut in our graph, then we are looking for a way to split the nodes into two groups so that there are as many edges as possible between the groups. In our computer set, this means that we have two groups with as many connections as possible between the two groups. Now if one connection goes down, we have many more to use! This way we have created a more resilient network by providing many redundant connections between groups in case one connection fails.\n",
    "\n",
    "Below we see a simple network of five nodes and three different ways to split the set of nodes into two groups. The dashed edges in each graph highlight the cut edges.\n",
    "\n",
    "<img src=\"files/cut.png\" alt=\"\" style=\"width: 500px;\"/>\n"
   ]
  },
  {
   "cell_type": "markdown",
   "id": "58287fbc",
   "metadata": {},
   "source": [
    "# Code Overview\n",
    "\n",
    "\n",
    "The answer that we are looking for is a partition of the nodes in the graph. \n",
    "We will assign a binary variable for each node, i.e. variable $x_i$ denotes whether node $i$ is in one subset (call it Subset $0$) or the other (Subset $1$).\n",
    "\n",
    "**Objective function:** maximizing the number of cut edges\n",
    "\n",
    "**Note that** We only want to count an edge if the endpoints are in different subsets, and so we assign a $1$ for the edge_score column in this case and a $0$ otherwise.\n",
    "\n",
    "\n",
    "<img src=\"files/tabella.png\" alt=\"\" style=\"width: 200px;\"/>\n",
    "\n",
    "From this table, we can use the expression $x_i+x_j-2x_ix_j$ to calculate the edge_score column in our table. \n",
    "\n",
    "For the entire graph, **the objective function is:** \n",
    "\n",
    "<img src=\"files/formula 1.png\" alt=\"\" style=\"width: 200px;\"/>\n",
    "\n",
    "where the sum is over all edges in the graph.\n",
    "\n",
    "To minimize an objective function, we must convert this maximization problem to a minimization problem by multiplying the expression by -1. **The final QUBO expression is the following.**\n",
    "\n",
    "<img src=\"files/formula 2.png\" alt=\"\" style=\"width: 200px;\"/>\n",
    "\n",
    "\n",
    "\n",
    "Indeed, we have $x_{12},x_{13}, x_{24},x_{34},x_{35},x_{45}=1$\n",
    "\n",
    "so, the QUBO is:\n",
    "\n",
    "$min[-x_1-x_2+2x_{12}-x_1-x_3+2x_{1} x_{3}-x_2-x_4+2x_{24}-x_3-x_4+2x_{34}-x_3-x_5+2x_{35}-x_4-x_5+2x_{45}]=$\n",
    "\n",
    "$min[-2x_1-2x_2-3x_3-3x_4-2x_5+2x_{12}+2x_{13}+2x_{24}+2x_{34}+2x_{35}+2x_{45}]$\n",
    "\n",
    "For the graph shown above, this QUBO results in the following Q matrix. In the Q matrix (implemented as a dictionary using Ocean), we put the coefficients on the linear terms in our QUBO along the diagonal and the quadratic terms on the off-diagonal.\n",
    "\n",
    "<img src=\"files/tabella2.png\" alt=\"\" style=\"width: 200px;\"/>\n",
    "\n",
    "In the code, we create this Q matrix as a dictionary iteratively, looping over the edges in our graph just as we see in the summation of our QUBO expression.\n",
    "\n"
   ]
  },
  {
   "cell_type": "code",
   "execution_count": 1,
   "id": "e612eb17",
   "metadata": {
    "tags": []
   },
   "outputs": [],
   "source": [
    "# ------ Import necessary packages ----\n",
    "from collections import defaultdict\n",
    "\n",
    "from dwave.system.samplers import DWaveSampler\n",
    "from dwave.system.composites import EmbeddingComposite\n",
    "import networkx as nx\n",
    "\n",
    "import matplotlib\n",
    "matplotlib.use(\"agg\")\n",
    "from matplotlib import pyplot as plt\n",
    "from IPython.display import Image, display\n",
    "\n"
   ]
  },
  {
   "cell_type": "code",
   "execution_count": 2,
   "id": "97bffef0",
   "metadata": {
    "tags": []
   },
   "outputs": [],
   "source": [
    "# ------- Set up our graph -------\n",
    "\n",
    "# Create empty graph\n",
    "G = nx.Graph()\n",
    "\n",
    "# Add edges to the graph (also adds nodes)\n",
    "G.add_edges_from([(1,2),(1,3),(2,4),(3,4),(3,5),(4,5)])\n"
   ]
  },
  {
   "cell_type": "code",
   "execution_count": 3,
   "id": "13b5156d",
   "metadata": {
    "tags": []
   },
   "outputs": [
    {
     "name": "stdout",
     "output_type": "stream",
     "text": [
      "defaultdict(<class 'int'>, {(1, 1): -2, (2, 2): -2, (1, 2): 2, (3, 3): -3, (1, 3): 2, (4, 4): -3, (2, 4): 2, (3, 4): 2, (5, 5): -2, (3, 5): 2, (4, 5): 2})\n"
     ]
    }
   ],
   "source": [
    "# ------- Set up our QUBO dictionary -------\n",
    "\n",
    "# Initialize our Q matrix\n",
    "Q = defaultdict(int)\n",
    "\n",
    "# Update Q matrix for every edge in the graph\n",
    "for i, j in G.edges:\n",
    "    Q[(i,i)]+= -1\n",
    "    Q[(j,j)]+= -1\n",
    "    Q[(i,j)]+= 2\n",
    "    \n",
    "print(Q)"
   ]
  },
  {
   "cell_type": "markdown",
   "id": "e3162402",
   "metadata": {},
   "source": [
    "# Set up QPU parameters\n",
    "\n",
    "There are two parameters to be set by the user in this code: \n",
    "\n",
    "**number of reads:** \n",
    "\n",
    "**chain strength:**   chain_strength (float/mapping/callable, optional) – Sets the coupling strength between qubits representing variables that form a chain. Mappings should specify the required chain strength for each variable. Callables should accept the BQM and embedding and return a float or mapping. By default, chain_strength is calculated with uniform_torque_compensation().\n",
    "\n",
    "We want each chain to contain qubits that\n",
    "are all the same color, that is, either all 0 or all 1. A chain is broken if it connects qubits of\n",
    "different colors. By enabling another option in the problem inspector (on the toolbar on the\n",
    "left of the screen) to show broken chains in red, we can see that all of the chains are broken:\n",
    "\n",
    "The way embedding works is as follows:\n",
    "\n",
    "    - Each logical variable – that is, each binary variable in the original graph – is represented by a\n",
    "    chain of physical qubits in the QPU.\n",
    "     - We want all the physical qubits in a given chain to have the same value, all 0 or all 1, at the end\n",
    "    of the annealing cycle. If they agree, then it is easy to map the qubit values back to the variable\n",
    "    value in the original problem. If not, then postprocessing software (chain break fixing) is used\n",
    "    to guess which is the correct assignment to the variable.\n",
    "    - The qubit chains are constrained to have the same value, 0 or 1, by a single parameter, the chain\n",
    "    strength. This is the weight that is assigned to the gray edges.\n",
    "    - If the chain strength is not large enough, the physical qubits in the chain will not take the same\n",
    "    value at the end of the annealing process, and the chain will break.\n",
    "    -If the chains break, the solutions returned from the processor may be degraded and are less likely\n",
    "    to be optimal.\n",
    "\n",
    "# operational hint: \n",
    "we examine the entries in our Q matrix and choose a relatively large number to enforce chains in our embedding. For this problem, our matrix entries range from -3 to +2 and so a value of 8 is chosen for chainstrength, as suggested in the Dwave documentation https://www.dwavesys.com/media/vsufwv1d/14-1041a-a_setting_the_chain_strength.pdf\n",
    "    How do we know what is a reasonable value for the chain strength? A good first estimate is to set the chain strength equal to something near the largest absolute value in the problem’s QUBO\n",
    "\n",
    "**NOTE THAT** increasing the chain strength eliminates the broken chains and can provide a higher percentage of valid solutions to the problem. However, pay attention that as chain\n",
    "strengths get larger, the individual QUBO terms, and the problem constraints, shrink to near zero. Each chain begins to\n",
    "act like a separate entity, it no longer represents the original problem.\n",
    "\n",
    "\n",
    "**We should try to keep chain strength within a reasonable range: large enough to avoid chain breaks, but small enough to maintain the importance of the QUBO terms.**\n"
   ]
  },
  {
   "cell_type": "code",
   "execution_count": 4,
   "id": "d072e5ab",
   "metadata": {
    "tags": []
   },
   "outputs": [],
   "source": [
    "# ------- Run our QUBO on the QPU -------\n",
    "\n",
    "chainstrength = 8\n",
    "numruns = 1000\n",
    "\n",
    "# Run the QUBO on the solver from your config file\n",
    "sampler = EmbeddingComposite(DWaveSampler())\n",
    "response = sampler.sample_qubo(Q,\n",
    "                               chain_strength=chainstrength,\n",
    "                               num_reads=numruns,\n",
    "                               label='Example - Maximum Cut')\n"
   ]
  },
  {
   "cell_type": "code",
   "execution_count": 5,
   "id": "fe6d8fc3",
   "metadata": {
    "tags": []
   },
   "outputs": [
    {
     "name": "stdout",
     "output_type": "stream",
     "text": [
      "------------------------------------------------------------\n",
      "          Set 0          Set 1    Energy        Cut Size    \n",
      "------------------------------------------------------------\n",
      "         [1, 4]      [2, 3, 5]     -5.0             5       \n",
      "         [2, 3]      [1, 4, 5]     -5.0             5       \n",
      "      [1, 4, 5]         [2, 3]     -5.0             5       \n",
      "      [2, 3, 5]         [1, 4]     -5.0             5       \n"
     ]
    }
   ],
   "source": [
    "# ------- Print results to user -------\n",
    "print('-' * 60)\n",
    "print('{:>15s}{:>15s}{:^15s}{:^15s}'.format('Set 0','Set 1','Energy','Cut Size'))\n",
    "print('-' * 60)\n",
    "for sample, E in response.data(fields=['sample','energy']):\n",
    "    S0 = [k for k,v in sample.items() if v == 0]\n",
    "    S1 = [k for k,v in sample.items() if v == 1]\n",
    "    print('{:>15s}{:>15s}{:^15s}{:^15s}'.format(str(S0),str(S1),str(E),str(int(-1*E))))\n",
    "\n",
    "# ------- Display results to user -------\n",
    "# Grab best result\n",
    "# Note: \"best\" result is the result with the lowest energy\n",
    "# Note2: the look up table (lut) is a dictionary, where the key is the node index\n",
    "#   and the value is the set label. For example, lut[5] = 1, indicates that\n",
    "#   node 5 is in set 1 (S1).\n",
    "lut = response.first.sample #print best energy "
   ]
  },
  {
   "cell_type": "code",
   "execution_count": 6,
   "id": "c9c058af",
   "metadata": {
    "tags": []
   },
   "outputs": [],
   "source": [
    "# Interpret best result in terms of nodes and edges\n",
    "S0 = [node for node in G.nodes if not lut[node]]\n",
    "S1 = [node for node in G.nodes if lut[node]]\n",
    "cut_edges = [(u, v) for u, v in G.edges if lut[u]!=lut[v]]\n",
    "uncut_edges = [(u, v) for u, v in G.edges if lut[u]==lut[v]]"
   ]
  },
  {
   "cell_type": "code",
   "execution_count": 7,
   "id": "adebee0c",
   "metadata": {
    "tags": []
   },
   "outputs": [
    {
     "data": {
      "image/png": "[encoded data removed]",
      "text/plain": [
       "<IPython.core.display.Image object>"
      ]
     },
     "metadata": {},
     "output_type": "display_data"
    }
   ],
   "source": [
    "# Display best result\n",
    "pos = nx.spring_layout(G)\n",
    "nx.draw_networkx_nodes(G, pos, nodelist=S0, node_color='r')\n",
    "nx.draw_networkx_nodes(G, pos, nodelist=S1, node_color='c')\n",
    "nx.draw_networkx_edges(G, pos, edgelist=cut_edges, style='dashdot', alpha=0.5, width=3)\n",
    "nx.draw_networkx_edges(G, pos, edgelist=uncut_edges, style='solid', width=3)\n",
    "nx.draw_networkx_labels(G, pos)\n",
    "\n",
    "filename = \"maxcut_plot.png\"\n",
    "plt.savefig(filename, bbox_inches='tight')\n",
    "#print(\"\\nYour plot is saved to {}\".format(filename))\n",
    "\n",
    "display(Image(filename))"
   ]
  },
  {
   "cell_type": "markdown",
   "id": "1f8d2679",
   "metadata": {},
   "source": [
    "Example from Dwave Leap. References: Dunning, Iain, Swati Gupta, and John Silberholz. \"What works best when? A systematic evaluation of heuristics for Max-Cut and QUBO.\" INFORMS Journal on Computing 30.3 (2018): 608-624."
   ]
  }
 ],
 "metadata": {
  "kernelspec": {
   "display_name": "Ocean",
   "language": "python",
   "name": "ocean"
  },
  "language_info": {
   "codemirror_mode": {
    "name": "ipython",
    "version": 3
   },
   "file_extension": ".py",
   "mimetype": "text/x-python",
   "name": "python",
   "nbconvert_exporter": "python",
   "pygments_lexer": "ipython3",
   "version": "3.8.19"
  }
 },
 "nbformat": 4,
 "nbformat_minor": 5
}
