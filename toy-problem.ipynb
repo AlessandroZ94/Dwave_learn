{
 "cells": [
  {
   "cell_type": "code",
   "execution_count": 31,
   "metadata": {},
   "outputs": [
    {
     "name": "stdout",
     "output_type": "stream",
     "text": [
      "defaultdict(<class 'int'>, {(1, 1): -3, (2, 2): -3, (3, 3): 1, (1, 2): 8})\n"
     ]
    }
   ],
   "source": [
    "from collections import defaultdict\n",
    "from dimod import SimulatedAnnealingSampler\n",
    "import numpy as np\n",
    "import matplotlib.pyplot as plt\n",
    "\n",
    "# TODO\n",
    "# min  (v+w+t+(u-2)^2)\n",
    "# s.t. v+2w+t+u+a1=3\n",
    "# and  -v-w-t+a2=-1\n",
    "# and  v+w=1\n",
    "# with v,w,t binary variables\n",
    "# with u continuous variable in [0,3], a1 continuos variable in [0,3]\n",
    "# with a2 integer value variable in [0,2] so a2=a20+a21 defined with 2 binary variables\n",
    "\n",
    "# Initialize our Q matrix\n",
    "Q = defaultdict(int)\n",
    "nu = 2\n",
    "na1 = 3\n",
    "na2 = 2\n",
    "n = 3 # v, w, t\n",
    "ntot = nu+na1+na2+n\n",
    "\n",
    "# using the penalty method\n",
    "A = 4\n",
    "\n",
    "Q[(1,1)]=1-A\n",
    "Q[(2,2)]=1-A\n",
    "Q[(3,3)]=1\n",
    "Q[(1,2)]=2*A\n",
    "print(Q)"
   ]
  },
  {
   "cell_type": "code",
   "execution_count": 32,
   "metadata": {},
   "outputs": [
    {
     "name": "stdout",
     "output_type": "stream",
     "text": [
      "{1: np.int8(1), 2: np.int8(0), 3: np.int8(0)}\n"
     ]
    }
   ],
   "source": [
    "\n",
    "# Define the sampler that will be used to run the problem\n",
    "#sampler = EmbeddingComposite(DWaveSampler())\n",
    "# Instantiate the sampler\n",
    "sampler = SimulatedAnnealingSampler()\n",
    "\n",
    "# Run the problem on the sampler and print the results\n",
    "sampleset = sampler.sample_qubo(Q,\n",
    "                                 num_reads = 100)\n",
    "#print(sampleset) #prints energy, number of occurencies and \n",
    "result = sampleset.first.sample #lowest energy sample\n",
    "print(result)"
   ]
  }
 ],
 "metadata": {
  "kernelspec": {
   "display_name": ".venv",
   "language": "python",
   "name": "python3"
  },
  "language_info": {
   "codemirror_mode": {
    "name": "ipython",
    "version": 3
   },
   "file_extension": ".py",
   "mimetype": "text/x-python",
   "name": "python",
   "nbconvert_exporter": "python",
   "pygments_lexer": "ipython3",
   "version": "3.12.8"
  }
 },
 "nbformat": 4,
 "nbformat_minor": 2
}
