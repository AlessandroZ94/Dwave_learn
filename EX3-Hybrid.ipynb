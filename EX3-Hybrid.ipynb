{
 "cells": [
  {
   "cell_type": "markdown",
   "id": "92d76276",
   "metadata": {},
   "source": [
    "# Constrained optimization problems\n",
    "\n",
    "\n",
    "\n",
    "## what is quantum-classical hybrid?\n",
    "Mix of classical and quantum compute resources working together on a problem\n",
    "\n",
    "Take a look at: https://docs.ocean.dwavesys.com/en/stable/overview/hybrid.html"
   ]
  },
  {
   "cell_type": "markdown",
   "id": "acfd19a7",
   "metadata": {},
   "source": [
    "# Example:  Knapsack problem"
   ]
  },
  {
   "cell_type": "markdown",
   "id": "5ad90f5b",
   "metadata": {},
   "source": [
    "\n",
    "The knapsack problem is a well-known optimization problem. It is encountered, for example, in packing shipping containers. \n",
    "\n",
    "A shipping container has a weight capacity which it can hold. Given a collection of items to be shipped, where each item has a value and a weight, the problem is to select the optimal items to pack in the shipping container. This optimization problem can be defined as an objective with a constraint:\n",
    "\n",
    "\n",
    "    -Objective: Maximize freight value (sum of values of the selected items).\n",
    "    -Constraint: Total freight weight (sum of weights of the selected items) must be less than or equal to the container's capacity.\n",
    "    \n",
    "<img src=\"files/knapsack.png\" alt=\"\" style=\"width: 500px;\"/>"
   ]
  },
  {
   "cell_type": "markdown",
   "id": "4e5ea9ba",
   "metadata": {},
   "source": [
    "## In a nutshell: \n",
    "\n",
    "You have a knapsack with a weight limit — it can only carry a certain maximum weight. You have many items, each with a different weight, and a different monetary value. You want to choose a number of items to carry in the knapsack, while maximizing the monetary value of the whole transport, but without exceeding the maximum allowable weight."
   ]
  },
  {
   "cell_type": "code",
   "execution_count": 5,
   "id": "872490da",
   "metadata": {},
   "outputs": [],
   "source": [
    "#importing libraries\n",
    "\n",
    "import pandas as pd\n",
    "import numpy as np\n",
    "import pyomo.environ as pe\n",
    "from dimod.reference.samplers import ExactCQMSolver\n",
    "from dwave.system import LeapHybridCQMSampler\n",
    "from dimod import ConstrainedQuadraticModel, BinaryQuadraticModel, QuadraticModel\n",
    "import time"
   ]
  },
  {
   "cell_type": "code",
   "execution_count": 6,
   "id": "2ee321f6",
   "metadata": {},
   "outputs": [],
   "source": [
    "#Generation of data\n",
    "#randomly generated dataset containing 50 thousand items, \n",
    "#with weights and values varying randomly in a discrete uniform \n",
    "#distribution between 1 and 9999. The knapsack weight limit was set \n",
    "#to 80% of the total weight of all items — so some items will always be discarded.\n",
    "\n",
    "n_items = 50000\n",
    "max_cost = 9999\n",
    "max_weight = 9999\n",
    "\n",
    "rebuild_ds = True\n",
    "if rebuild_ds:\n",
    "    df = pd.DataFrame(\n",
    "        {\n",
    "            \"cost\": np.random.randint(1, max_cost, size=n_items),\n",
    "            \"weight\": np.random.randint(1, max_weight, size=n_items),\n",
    "        }\n",
    "    )\n",
    "    df.to_csv(\"ds.csv\", index=False, header=False)"
   ]
  },
  {
   "cell_type": "code",
   "execution_count": 7,
   "id": "a174ad42",
   "metadata": {},
   "outputs": [],
   "source": [
    "#CLASSICAL SOLVER (for later comparison)\n",
    "\n",
    "#Just take it as it is :)\n",
    "\n",
    "def knapsack_pyomo(values, weights, max_weight, debug=False):\n",
    "    print(f\"solving for {len(values)} items\")\n",
    "    print(\"build the model\")\n",
    "    pecm = pe.ConcreteModel(name=\"Knapsack\")\n",
    "    pecm.x = pe.Var(range(0, len(values)), domain=pe.Boolean)\n",
    "    pecm.worth = pe.Objective(\n",
    "        expr=sum(values[j] * pecm.x[j] for j in range(0, len(values))),\n",
    "        sense=pe.maximize,\n",
    "    )\n",
    "    pecm.weight = pe.ConstraintList()\n",
    "    pecm.weight.add(\n",
    "        sum(weights[j] * pecm.x[j] for j in range(0, len(values))) <= max_weight\n",
    "    )\n",
    "    if debug:\n",
    "        pecm.pprint()\n",
    "\n",
    "    solver_name = \"glpk\"\n",
    "    print(f\"submit model to solver {solver_name}\")\n",
    "    solver = pe.SolverFactory(solver_name)\n",
    "    t_start = time.time()\n",
    "    solver.solve(pecm)\n",
    "    t_end = time.time()\n",
    "    t_solver = t_end - t_start\n",
    "    if debug:\n",
    "        pecm.display()\n",
    "\n",
    "    print(\"parse the solver output\")\n",
    "    total_value = int(pecm.worth())\n",
    "    total_weight = int(sum(weights[j] * pecm.x[j]() for j in range(0, len(values))))\n",
    "    selected_items = pecm.x\n",
    "\n",
    "    return (\n",
    "        total_value,\n",
    "        total_weight,\n",
    "        selected_items,\n",
    "        t_solver,\n",
    "    )"
   ]
  },
  {
   "cell_type": "markdown",
   "id": "97509f50",
   "metadata": {},
   "source": [
    "## Hybrid solver\n",
    "\n",
    "CQM cannot run directly on a quantum annealer. However, you can still code the problem using the D-Wave API and submit it to the solvers in the cloud. D-Wave will decompose the problem into BQM (which can be solved by the quantum machine) and the rest (which is then solved by D-Wave using regular solvers).\n",
    "\n",
    "Think of it as divide-and-conquer: D-Wave tries to solve as much of your model as possible using the quantum annealer, but some problems still have parts that do not conform to the BQM equations. The combination of quantum and classical solvers that can solve different kinds of quadratic models is called a hybrid solver."
   ]
  },
  {
   "cell_type": "code",
   "execution_count": 8,
   "id": "1870ad50",
   "metadata": {},
   "outputs": [],
   "source": [
    "#Solving the problem with Dwave\n",
    "\n",
    "def knapsack_dwave(values, weights, max_weight, debug=False, classic_solver=False):\n",
    "    print(f\"solving for {len(values)} items\")\n",
    "    print(\"build the model\")\n",
    "    \n",
    "    #hint: cqm stands for constrained quadratic model, \n",
    "    #The model for this problem cannot be pure BQM, since we have a constraint\n",
    "    cqm = ConstrainedQuadraticModel() \n",
    "    obj = BinaryQuadraticModel(vartype=\"BINARY\")\n",
    "    constraint = QuadraticModel()\n",
    "\n",
    "    for i in range(len(values)):\n",
    "        obj.add_variable(i)\n",
    "        obj.set_linear(i, -values[i])\n",
    "        constraint.add_variable(\"BINARY\", i)\n",
    "        constraint.set_linear(i, weights[i])\n",
    "\n",
    "    cqm.set_objective(obj) #objective function\n",
    "    cqm.add_constraint(constraint, sense=\"<=\", rhs=max_weight, label=\"capacity\") #constraints\n",
    "\n",
    "   \n",
    "    sampler = LeapHybridCQMSampler() #The model for this problem cannot be pure BQM, \n",
    "        #since we have a constraint. Therefore, we choose a hybrid sampler.\n",
    "\n",
    "\n",
    "    print(f\"submit model to solver {sampler.solver.name}\")\n",
    "    sampleset = sampler.sample_cqm(cqm, label=\"knapsack problem\")\n",
    "\n",
    "    #many sample sets may be returned by D-Wave as part of the solution. \n",
    "    #Some are not feasible (e.g. violate constraints) and we need to filter them out of the results. \n",
    "    #Out of the feasible sample sets, one or several will have the lowest Ising energy — \n",
    "    #those are the best solutions found by the quantum computer.    \n",
    "    print(\"parse the solver output\")\n",
    "    feasible_sampleset = sampleset.filter(lambda row: row.is_feasible)\n",
    "    if not len(feasible_sampleset):\n",
    "        raise ValueError(\"No feasible solution found\")\n",
    "    best = feasible_sampleset.first\n",
    "\n",
    "    selected_items = [key for key, val in best.sample.items() if val == 1.0]\n",
    "    total_weight = sum(list(weights.loc[selected_items]))\n",
    "    total_value = sum(list(values.loc[selected_items]))\n",
    "    best_solution_energy = best.energy\n",
    "\n",
    "  \n",
    "    t_solver_server_side = sampleset.info[\"run_time\"] / 1000000\n",
    "    t_qpu = sampleset.info[\"qpu_access_time\"] / 1000000\n",
    "\n",
    "    return (\n",
    "        total_value,\n",
    "        total_weight,\n",
    "        selected_items,\n",
    "        t_solver_server_side,\n",
    "        t_qpu,\n",
    "        best_solution_energy,\n",
    "        sampleset,\n",
    "    )\n",
    "\n"
   ]
  },
  {
   "cell_type": "markdown",
   "id": "640048a2",
   "metadata": {},
   "source": [
    "# Results"
   ]
  },
  {
   "cell_type": "code",
   "execution_count": 13,
   "id": "5dbb0321",
   "metadata": {},
   "outputs": [],
   "source": [
    "ds = pd.read_csv(\"ds.csv\", names=[\"cost\", \"weight\"])\n",
    "\n",
    "values_array = ds[\"cost\"]\n",
    "weights_array = ds[\"weight\"]\n",
    "knapsack_max_weight = int(0.8 * ds[\"weight\"].sum()) #The knapsack weight limit was set \n",
    "#to 80% of the total weight of all items — so some items will always be discarded.\n"
   ]
  },
  {
   "cell_type": "code",
   "execution_count": 11,
   "id": "a07a3080",
   "metadata": {},
   "outputs": [
    {
     "name": "stdout",
     "output_type": "stream",
     "text": [
      "solving for 50000 items\n",
      "build the model\n",
      "submit model to solver glpk\n",
      "parse the solver output\n",
      "+++++++++++++++++++++++++++++++++\n",
      "**Classical solver's results**\n",
      "solver time:         20.075597286224365\n",
      "knapsack max weight: 200829990\n",
      "items total weight:  200829938\n",
      "items total value:   242840637\n"
     ]
    }
   ],
   "source": [
    "#compute the classical solution\n",
    "finalVal, finalWeight, finalChoices, solver_time = knapsack_pyomo(\n",
    "    values_array, weights_array, knapsack_max_weight\n",
    ")\n",
    "\n",
    "#printing the results\n",
    "print(\"+++++++++++++++++++++++++++++++++\")\n",
    "print(\"**Classical solver's results**\")\n",
    "print(f\"solver time:         {solver_time}\")\n",
    "print(f\"knapsack max weight: {knapsack_max_weight}\")\n",
    "print(f\"items total weight:  {finalWeight}\")\n",
    "print(f\"items total value:   {finalVal}\")"
   ]
  },
  {
   "cell_type": "markdown",
   "id": "2d923e70",
   "metadata": {},
   "source": [
    "GLPK took 25 seconds to solve the problem. \n",
    "\n",
    "It came up with a combination of items that is just under the maximum allowed knapsack weight."
   ]
  },
  {
   "cell_type": "code",
   "execution_count": 22,
   "id": "e3dddb12",
   "metadata": {},
   "outputs": [
    {
     "name": "stdout",
     "output_type": "stream",
     "text": [
      "solving for 50000 items\n",
      "build the model\n",
      "submit model to solver hybrid_constrained_quadratic_model_version1p\n",
      "parse the solver output\n",
      "solver time server side: 14.512364\n",
      "solver time QPU:         0.016045\n",
      "knapsack max weight:     200604267\n",
      "items total weight:      200604245\n",
      "items total value:       241907898\n",
      "best sol. energy:        -241907898.0\n"
     ]
    }
   ],
   "source": [
    "#compute quantum solutions\n",
    "(\n",
    "    finalVal,\n",
    "    finalWeight,\n",
    "    finalChoices,\n",
    "    solver_time_server,\n",
    "    solver_time_qpu,\n",
    "    best_energy,\n",
    "    sampleset,\n",
    ") = knapsack_dwave(values_array, weights_array, knapsack_max_weight)\n",
    "\n",
    "#printing the results\n",
    "print(\"+++++++++++++++++++++++++++++++++\")\n",
    "print(f\"solver time server side: {solver_time_server}\")\n",
    "print(f\"solver time QPU:         {solver_time_qpu}\")\n",
    "print(f\"knapsack max weight:     {knapsack_max_weight}\")\n",
    "print(f\"items total weight:      {finalWeight}\")\n",
    "print(f\"items total value:       {finalVal}\")\n",
    "print(f\"best sol. energy:        {best_energy}\")"
   ]
  },
  {
   "cell_type": "markdown",
   "id": "ca7dd9c6",
   "metadata": {},
   "source": [
    "The total time spent by the D-Wave hybrid solver was around 12-14 seconds. This is an improvement over integer programming. Moreover, slight increases in the number of items force the integer programming code to spend a much, much longer time solving the problem — the increase is non-linear.\n",
    "\n",
    "Not so with the D-Wave solver. It, too, spends a longer time solving a bigger problem, but the time it takes to do that does not increase catastrophically with the number of items.\n",
    "\n",
    "The time spent on the actual QPU (the quantum annealer) is only 16 milliseconds. Most of the total time is spent decomposing the problem, sampling the solution space, then sending the results back to the coder. The larger the fraction of the problem that runs on the actual QPU, the bigger the speed gain.\n",
    "\n"
   ]
  },
  {
   "cell_type": "markdown",
   "id": "759246fe",
   "metadata": {},
   "source": [
    "References:\n",
    "\n",
    "    1. https://github.com/dwave-examples/knapsack/blob/master/README.md\n",
    "    \n",
    "    2. https://towardsdatascience.com/quantum-computing-for-optimization-problems-solving-the-knapsack-problem-274f01e78ed8\n"
   ]
  },
  {
   "cell_type": "code",
   "execution_count": null,
   "id": "dcc50e4a",
   "metadata": {},
   "outputs": [],
   "source": []
  }
 ],
 "metadata": {
  "kernelspec": {
   "display_name": "Python 3 (ipykernel)",
   "language": "python",
   "name": "python3"
  },
  "language_info": {
   "codemirror_mode": {
    "name": "ipython",
    "version": 3
   },
   "file_extension": ".py",
   "mimetype": "text/x-python",
   "name": "python",
   "nbconvert_exporter": "python",
   "pygments_lexer": "ipython3",
   "version": "3.9.13"
  }
 },
 "nbformat": 4,
 "nbformat_minor": 5
}
