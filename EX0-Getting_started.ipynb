{
 "cells": [
  {
   "cell_type": "markdown",
   "id": "cb3340e1",
   "metadata": {},
   "source": [
    "#  Qubo: a basic example\n",
    "\n",
    "Usage of the Ocean SDK to run QUBO problems on the D-Wave quantum processing unit (QPU)."
   ]
  },
  {
   "cell_type": "markdown",
   "id": "0bf18a0b-86bc-47e6-bf86-a0d7d9221968",
   "metadata": {},
   "source": [
    "see https://arxiv.org/pdf/1811.11538 pag 9\n",
    "\n"
   ]
  },
  {
   "cell_type": "markdown",
   "id": "f058a65e",
   "metadata": {},
   "source": [
    "## From today's lesson: \n",
    "\n",
    "<img src=\"files/QUBO.png\" alt=\"\" style=\"width: 700px;\"/>"
   ]
  },
  {
   "cell_type": "markdown",
   "id": "2cb950ba",
   "metadata": {},
   "source": [
    "## Resolution workflow of a problem on a D-wave machine: \n",
    "\n",
    "<img src=\"files/workflow.png\" alt=\"\" style=\"width: 700px;\"/>"
   ]
  },
  {
   "cell_type": "code",
   "execution_count": 9,
   "id": "0e99686e",
   "metadata": {},
   "outputs": [],
   "source": [
    "# Import the functions and packages that are used\n",
    "from dwave.system import EmbeddingComposite, DWaveSampler\n",
    "from collections import defaultdict"
   ]
  },
  {
   "cell_type": "code",
   "execution_count": 10,
   "id": "4e2db5b3",
   "metadata": {},
   "outputs": [
    {
     "name": "stdout",
     "output_type": "stream",
     "text": [
      "defaultdict(<class 'int'>, {(1, 1): -2, (2, 2): -2, (1, 2): 2, (3, 3): -3, (1, 3): 2, (4, 4): -3, (2, 4): 2, (3, 4): 2, (5, 5): -2, (3, 5): 2, (4, 5): 2})\n"
     ]
    }
   ],
   "source": [
    "# Initialize our Q matrix\n",
    "Q = defaultdict(int)\n",
    "\n",
    "#Define the Q matrix\n",
    "Q[(1, 1)]= -2\n",
    "Q[(2, 2)]= -2\n",
    "Q[(1, 2)]= 2\n",
    "Q[(3, 3)]= -3\n",
    "Q[(1,3)]= 2\n",
    "Q[(4, 4)]= -3\n",
    "Q[(2, 4)]= 2\n",
    "Q[(3, 4)]=2\n",
    "Q[(5, 5)]= -2\n",
    "Q[(3, 5)]= 2\n",
    "Q[(4, 5)]= 2\n",
    "print(Q)"
   ]
  },
  {
   "cell_type": "markdown",
   "id": "e6c097da",
   "metadata": {},
   "source": [
    "\n",
    "\n",
    "\n",
    "\n",
    "\n",
    "<img src=\"files/samplers.png\" alt=\"\" style=\"width: 700px;\"/>\n",
    "\n",
    "**Take a look at QPUs: https://docs.ocean.dwavesys.com/en/stable/concepts/topology.html**"
   ]
  },
  {
   "cell_type": "code",
   "execution_count": 11,
   "id": "24ec4636",
   "metadata": {},
   "outputs": [],
   "source": [
    "from dimod import SimulatedAnnealingSampler\n",
    "\n",
    "\n",
    "# Define the sampler that will be used to run the problem\n",
    "#sampler = EmbeddingComposite(DWaveSampler())\n",
    "\n",
    "# Instantiate the sampler\n",
    "sampler = SimulatedAnnealingSampler()"
   ]
  },
  {
   "cell_type": "markdown",
   "id": "a988b89f",
   "metadata": {},
   "source": [
    "## Parameters: \n",
    "\n",
    "The problems you send to D-Wave solvers include problem parameters solver parameters that control how the problem is run \n",
    "\n",
    "**Take a look at https://docs.dwavesys.com/docs/latest/c_solver_parameters.html**\n",
    "\n",
    "\n",
    "\n",
    "<img src=\"files/num_reads.png\" alt=\"\" style=\"width: 700px;\"/>"
   ]
  },
  {
   "cell_type": "code",
   "execution_count": 12,
   "id": "b1f4104e",
   "metadata": {},
   "outputs": [
    {
     "name": "stdout",
     "output_type": "stream",
     "text": [
      "    1  2  3  4  5 energy num_oc.\n",
      "0   1  0  0  1  1   -5.0       1\n",
      "1   1  0  0  1  1   -5.0       1\n",
      "2   0  1  1  0  1   -5.0       1\n",
      "3   1  0  0  1  1   -5.0       1\n",
      "4   0  1  1  0  0   -5.0       1\n",
      "5   1  0  0  1  1   -5.0       1\n",
      "6   1  0  0  1  0   -5.0       1\n",
      "7   1  0  0  1  0   -5.0       1\n",
      "8   0  1  1  0  1   -5.0       1\n",
      "9   0  1  1  0  1   -5.0       1\n",
      "10  1  0  0  1  0   -5.0       1\n",
      "11  0  1  1  0  1   -5.0       1\n",
      "13  0  1  1  0  0   -5.0       1\n",
      "14  1  0  0  1  1   -5.0       1\n",
      "16  1  0  0  1  1   -5.0       1\n",
      "17  1  0  0  1  1   -5.0       1\n",
      "18  0  1  1  0  1   -5.0       1\n",
      "19  0  1  1  0  0   -5.0       1\n",
      "20  0  1  1  0  0   -5.0       1\n",
      "21  1  0  0  1  0   -5.0       1\n",
      "22  0  1  1  0  1   -5.0       1\n",
      "23  0  1  1  0  1   -5.0       1\n",
      "24  0  1  1  0  1   -5.0       1\n",
      "25  0  1  1  0  1   -5.0       1\n",
      "26  0  1  1  0  1   -5.0       1\n",
      "27  1  0  0  1  1   -5.0       1\n",
      "28  1  0  0  1  1   -5.0       1\n",
      "29  0  1  1  0  0   -5.0       1\n",
      "30  1  0  0  1  1   -5.0       1\n",
      "32  0  1  1  0  0   -5.0       1\n",
      "33  0  1  1  0  1   -5.0       1\n",
      "34  1  0  0  1  0   -5.0       1\n",
      "35  0  1  1  0  0   -5.0       1\n",
      "36  1  0  0  1  0   -5.0       1\n",
      "37  0  1  1  0  1   -5.0       1\n",
      "38  1  0  0  1  1   -5.0       1\n",
      "39  1  0  0  1  0   -5.0       1\n",
      "40  0  1  1  0  0   -5.0       1\n",
      "41  1  0  0  1  1   -5.0       1\n",
      "43  1  0  0  1  1   -5.0       1\n",
      "44  0  1  1  0  0   -5.0       1\n",
      "45  0  1  1  0  1   -5.0       1\n",
      "46  1  0  0  1  0   -5.0       1\n",
      "47  1  0  0  1  0   -5.0       1\n",
      "48  0  1  1  0  0   -5.0       1\n",
      "49  1  0  0  1  0   -5.0       1\n",
      "51  1  0  0  1  1   -5.0       1\n",
      "52  1  0  0  1  1   -5.0       1\n",
      "53  0  1  1  0  0   -5.0       1\n",
      "54  0  1  1  0  0   -5.0       1\n",
      "55  0  1  1  0  0   -5.0       1\n",
      "56  0  1  1  0  1   -5.0       1\n",
      "57  1  0  0  1  0   -5.0       1\n",
      "58  0  1  1  0  0   -5.0       1\n",
      "59  1  0  0  1  1   -5.0       1\n",
      "60  0  1  1  0  1   -5.0       1\n",
      "61  1  0  0  1  1   -5.0       1\n",
      "62  0  1  1  0  0   -5.0       1\n",
      "65  1  0  0  1  0   -5.0       1\n",
      "66  1  0  0  1  1   -5.0       1\n",
      "67  1  0  0  1  1   -5.0       1\n",
      "68  0  1  1  0  0   -5.0       1\n",
      "69  1  0  0  1  1   -5.0       1\n",
      "70  1  0  0  1  0   -5.0       1\n",
      "71  0  1  1  0  1   -5.0       1\n",
      "72  1  0  0  1  1   -5.0       1\n",
      "73  1  0  0  1  1   -5.0       1\n",
      "74  1  0  0  1  1   -5.0       1\n",
      "75  0  1  1  0  0   -5.0       1\n",
      "76  1  0  0  1  1   -5.0       1\n",
      "78  0  1  1  0  0   -5.0       1\n",
      "79  0  1  1  0  0   -5.0       1\n",
      "80  0  1  1  0  0   -5.0       1\n",
      "81  0  1  1  0  1   -5.0       1\n",
      "82  1  0  0  1  1   -5.0       1\n",
      "83  1  0  0  1  0   -5.0       1\n",
      "84  0  1  1  0  0   -5.0       1\n",
      "85  0  1  1  0  1   -5.0       1\n",
      "86  0  1  1  0  0   -5.0       1\n",
      "87  0  1  1  0  1   -5.0       1\n",
      "88  0  1  1  0  0   -5.0       1\n",
      "89  0  1  1  0  0   -5.0       1\n",
      "90  1  0  0  1  0   -5.0       1\n",
      "91  1  0  0  1  1   -5.0       1\n",
      "92  1  0  0  1  0   -5.0       1\n",
      "93  1  0  0  1  0   -5.0       1\n",
      "94  1  0  0  1  1   -5.0       1\n",
      "95  0  1  1  0  1   -5.0       1\n",
      "96  0  1  1  0  0   -5.0       1\n",
      "97  1  0  0  1  1   -5.0       1\n",
      "98  1  0  0  1  1   -5.0       1\n",
      "12  0  0  1  1  0   -4.0       1\n",
      "15  1  1  0  0  1   -4.0       1\n",
      "31  1  0  1  1  0   -4.0       1\n",
      "42  0  1  1  1  0   -4.0       1\n",
      "50  0  0  1  1  0   -4.0       1\n",
      "63  0  0  1  1  0   -4.0       1\n",
      "64  0  1  1  1  0   -4.0       1\n",
      "77  0  0  1  1  0   -4.0       1\n",
      "99  1  0  1  1  0   -4.0       1\n",
      "['BINARY', 100 rows, 100 samples, 5 variables]\n"
     ]
    }
   ],
   "source": [
    "# Run the problem on the sampler and print the results\n",
    "sampleset = sampler.sample_qubo(Q,\n",
    "                                 num_reads = 100,\n",
    "                                 label='Example - Simple Ocean Programs: QUBO')\n",
    "print(sampleset) #prints energy, number of occurencies and \n",
    "\n"
   ]
  },
  {
   "cell_type": "markdown",
   "id": "d73dbefe",
   "metadata": {},
   "source": [
    "For most problems, **the lower the energy of the objective function, the better the solution**. Sometimes any low-energy state is an acceptable solution to the original problem; for other problems, only optimal solutions are acceptable. The best solutions typically correspond to the global minimum energy in the solution space"
   ]
  },
  {
   "cell_type": "markdown",
   "id": "26226dce",
   "metadata": {},
   "source": [
    "**Now, we will analyze three examples**\n",
    "\n",
    "    1. a QUBO (Quadratic Unconstained Binary Optimization ) Problem\n",
    "    \n",
    "    2. an optimization problem, with constaints, that can be reconduct to a QUBO problem through the penalty function method\n",
    "    \n",
    "    3. a constrained optimization problem, solved with a hybrid (classic-quantum) approach"
   ]
  },
  {
   "cell_type": "code",
   "execution_count": null,
   "id": "e1523402",
   "metadata": {},
   "outputs": [],
   "source": []
  }
 ],
 "metadata": {
  "kernelspec": {
   "display_name": ".venv",
   "language": "python",
   "name": "python3"
  },
  "language_info": {
   "codemirror_mode": {
    "name": "ipython",
    "version": 3
   },
   "file_extension": ".py",
   "mimetype": "text/x-python",
   "name": "python",
   "nbconvert_exporter": "python",
   "pygments_lexer": "ipython3",
   "version": "3.12.3"
  }
 },
 "nbformat": 4,
 "nbformat_minor": 5
}
